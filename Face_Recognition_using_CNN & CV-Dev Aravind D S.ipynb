{
 "cells": [
  {
   "cell_type": "markdown",
   "metadata": {
    "id": "WUzcHxoWN6DE"
   },
   "source": [
    "## Submitted by: Dev Aravind D S\n",
    "\n",
    "## Project: Perform Facial Recognition with Deep Learning with Computer Vision Using CNN\n",
    "\n",
    "\n",
    "**Problem Statement:**\n",
    "    \n",
    "Facial recognition is a biometric alternative that measures unique characteristics of a human face. Applications available today include flight check in, tagging friends and family members in photos, and “tailored” advertising. You are a computer vision engineer who needs to develop a face recognition programme with deep convolutional neural networks.\n",
    "\n",
    "\n",
    "**Objective:**\n",
    "Use a deep convolutional neural network to perform facial recognition using Keras.\n",
    "\n",
    "**Dataset Details:**\n",
    "ORL face database composed of 400 images of size 112 x 92. There are 40 people, 10 images per person. The images were taken at different times, lighting and facial expressions. The faces are in an upright position in frontal view, with a slight left-right rotation.\n",
    "\n",
    "**Steps to be followed:**\n",
    "1. Input the required libraries\n",
    "2. Load the dataset after loading the dataset, you have to normalize every image.\n",
    "3. Split the dataset\n",
    "4. Transform the images to equal sizes to feed in CNN\n",
    "5. Build a CNN model that has 3 main layers:\n",
    "   i. Convolutional Layer\n",
    "   ii. Pooling Layer\n",
    "   iii. Fully Connected Layer\n",
    "6. Train the model\n",
    "7. Plot the result\n",
    "8. Iterate the model until the accuracy is above 90%\n"
   ]
  },
  {
   "cell_type": "markdown",
   "metadata": {
    "id": "3j4-2Ic_N6DG"
   },
   "source": [
    "## Step #1 : Import the Libraries"
   ]
  },
  {
   "cell_type": "code",
   "execution_count": 1,
   "metadata": {
    "id": "ADLDbutXN6DH",
    "outputId": "19ee4662-5c4d-4a19-846d-1e897746d69c"
   },
   "outputs": [],
   "source": [
    "# Data science libraries\n",
    "import numpy as np\n",
    "import pandas as pd\n",
    "import matplotlib.pyplot as plt\n",
    "import itertools"
   ]
  },
  {
   "cell_type": "code",
   "execution_count": 2,
   "metadata": {
    "id": "ADLDbutXN6DH",
    "outputId": "19ee4662-5c4d-4a19-846d-1e897746d69c"
   },
   "outputs": [],
   "source": [
    "#Scikit-learn libraries\n",
    "from sklearn.model_selection import train_test_split\n",
    "from sklearn.metrics import accuracy_score\n",
    "from sklearn.metrics import confusion_matrix\n",
    "from sklearn.metrics import classification_report\n",
    "from sklearn.metrics import roc_curve,auc\n",
    "from sklearn import metrics"
   ]
  },
  {
   "cell_type": "code",
   "execution_count": 3,
   "metadata": {
    "id": "ADLDbutXN6DH",
    "outputId": "19ee4662-5c4d-4a19-846d-1e897746d69c"
   },
   "outputs": [
    {
     "name": "stdout",
     "output_type": "stream",
     "text": [
      "Tensorflow version: 2.5.0\n"
     ]
    }
   ],
   "source": [
    "#Keras API Tensorflow 2 libraries\n",
    "import tensorflow as tf\n",
    "import tensorflow as tf\n",
    "import keras\n",
    "from keras.models import Sequential\n",
    "from keras.layers import Dense, Dropout, Flatten, Conv2D, MaxPooling2D, Activation, LeakyReLU\n",
    "from keras.layers.noise import AlphaDropout\n",
    "from keras.utils.generic_utils import get_custom_objects\n",
    "from keras import backend as K\n",
    "from keras.callbacks import TensorBoard\n",
    "from keras.utils.np_utils import to_categorical\n",
    "print('Tensorflow version:', tf.__version__)"
   ]
  },
  {
   "cell_type": "markdown",
   "metadata": {
    "id": "GjkX-74LN6DI"
   },
   "source": [
    "## Step #2 : Load the Dataset and Preprocess the data"
   ]
  },
  {
   "cell_type": "code",
   "execution_count": 4,
   "metadata": {},
   "outputs": [],
   "source": [
    "# Load the NPZ file to data \n",
    "OFR_facesDF = np.load(\"ORL_faces.npz\",allow_pickle=False)"
   ]
  },
  {
   "cell_type": "code",
   "execution_count": 5,
   "metadata": {},
   "outputs": [
    {
     "name": "stdout",
     "output_type": "stream",
     "text": [
      "testY\n",
      "testX\n",
      "trainX\n",
      "trainY\n"
     ]
    }
   ],
   "source": [
    "# View files/folders present in data\n",
    "listDF = OFR_facesDF.files\n",
    "for item in listDF:\n",
    "    print(item)"
   ]
  },
  {
   "cell_type": "markdown",
   "metadata": {},
   "source": [
    "#### there are 4 folders present in the given data set. trainX, trainY, testX and testY"
   ]
  },
  {
   "cell_type": "code",
   "execution_count": 6,
   "metadata": {},
   "outputs": [
    {
     "name": "stdout",
     "output_type": "stream",
     "text": [
      "testY\n",
      "[ 0  0  0  0  0  0  0  0  1  1  1  1  1  1  1  1  2  2  2  2  2  2  2  2\n",
      "  3  3  3  3  3  3  3  3  4  4  4  4  4  4  4  4  5  5  5  5  5  5  5  5\n",
      "  6  6  6  6  6  6  6  6  7  7  7  7  7  7  7  7  8  8  8  8  8  8  8  8\n",
      "  9  9  9  9  9  9  9  9 10 10 10 10 10 10 10 10 11 11 11 11 11 11 11 11\n",
      " 12 12 12 12 12 12 12 12 13 13 13 13 13 13 13 13 14 14 14 14 14 14 14 14\n",
      " 15 15 15 15 15 15 15 15 16 16 16 16 16 16 16 16 17 17 17 17 17 17 17 17\n",
      " 18 18 18 18 18 18 18 18 19 19 19 19 19 19 19 19]\n",
      "\n",
      "\n",
      "testX\n",
      "[[ 41.  47.  47. ...  35.  37.  38.]\n",
      " [ 44.  43.  32. ...  43.  43.  37.]\n",
      " [ 42.  41.  44. ...  42.  43.  41.]\n",
      " ...\n",
      " [101. 100. 103. ...  31.  40.  42.]\n",
      " [105. 108. 106. ...  44.  40.  47.]\n",
      " [113. 114. 111. ...  62.  81.  89.]]\n",
      "\n",
      "\n",
      "trainX\n",
      "[[ 48.  49.  45. ...  47.  46.  46.]\n",
      " [ 60.  60.  62. ...  32.  34.  34.]\n",
      " [ 39.  44.  53. ...  29.  26.  29.]\n",
      " ...\n",
      " [114. 117. 114. ...  98.  96.  98.]\n",
      " [105. 105. 107. ...  54.  47.  41.]\n",
      " [116. 114. 117. ...  95. 100. 101.]]\n",
      "\n",
      "\n",
      "trainY\n",
      "[ 0  0  0  0  0  0  0  0  0  0  0  0  1  1  1  1  1  1  1  1  1  1  1  1\n",
      "  2  2  2  2  2  2  2  2  2  2  2  2  3  3  3  3  3  3  3  3  3  3  3  3\n",
      "  4  4  4  4  4  4  4  4  4  4  4  4  5  5  5  5  5  5  5  5  5  5  5  5\n",
      "  6  6  6  6  6  6  6  6  6  6  6  6  7  7  7  7  7  7  7  7  7  7  7  7\n",
      "  8  8  8  8  8  8  8  8  8  8  8  8  9  9  9  9  9  9  9  9  9  9  9  9\n",
      " 10 10 10 10 10 10 10 10 10 10 10 10 11 11 11 11 11 11 11 11 11 11 11 11\n",
      " 12 12 12 12 12 12 12 12 12 12 12 12 13 13 13 13 13 13 13 13 13 13 13 13\n",
      " 14 14 14 14 14 14 14 14 14 14 14 14 15 15 15 15 15 15 15 15 15 15 15 15\n",
      " 16 16 16 16 16 16 16 16 16 16 16 16 17 17 17 17 17 17 17 17 17 17 17 17\n",
      " 18 18 18 18 18 18 18 18 18 18 18 18 19 19 19 19 19 19 19 19 19 19 19 19]\n",
      "\n",
      "\n"
     ]
    }
   ],
   "source": [
    "listDF = OFR_facesDF.files\n",
    "for item in listDF:\n",
    "    print(item)\n",
    "    print(OFR_facesDF[item])\n",
    "    print(\"\\n\")"
   ]
  },
  {
   "cell_type": "markdown",
   "metadata": {},
   "source": [
    "### Train data set contains 12 images of 20mpersons each (Total size is 240)\n",
    "### Train data set contains 8 images of 20mpersons each (Total size si 160)"
   ]
  },
  {
   "cell_type": "code",
   "execution_count": 7,
   "metadata": {
    "id": "JZPO3iOwN6DJ"
   },
   "outputs": [],
   "source": [
    "# Loading train and test dataset which is already split into these datasets.\n",
    "X_train = OFR_facesDF['trainX']\n",
    "y_train = OFR_facesDF['trainY']\n",
    "X_test = OFR_facesDF['testX']\n",
    "y_test = OFR_facesDF['testY']"
   ]
  },
  {
   "cell_type": "code",
   "execution_count": 8,
   "metadata": {},
   "outputs": [
    {
     "name": "stdout",
     "output_type": "stream",
     "text": [
      "-------------------------\n",
      "X_train pixels:\n",
      "-------------------------\n",
      "Minimum Pixels:  0.0 \t Maximum Pixels:  244.0 \n",
      "\n",
      "Post Normalization\n",
      "Minimum Pixels:  0.0 \t Maximum Pixels:  0.9568627450980393 \n",
      "\n",
      "--------------------------\n",
      "X test pixels:\n",
      "--------------------------\n",
      "Minimum Pixels:  0.0 \t Maximum Pixels:  244.0 \n",
      "\n",
      "Post Normalization\n",
      "Minimum Pixels:  0.0 \t Maximum Pixels:  0.9568627450980393\n"
     ]
    }
   ],
   "source": [
    "# Normalizing each image as each image is between 0-255 pixels\n",
    "print(\"-------------------------\")\n",
    "print(\"X_train pixels:\")\n",
    "print(\"-------------------------\")\n",
    "print(\"Minimum Pixels: \", X_train.min(), \"\\t\", \"Maximum Pixels: \", X_train.max(), \"\\n\")\n",
    "X_train = np.array(X_train,dtype='float64')/255\n",
    "print(\"Post Normalization\")\n",
    "print(\"Minimum Pixels: \", X_train.min(), \"\\t\", \"Maximum Pixels: \", X_train.max(), \"\\n\")\n",
    "\n",
    "print(\"--------------------------\")\n",
    "print(\"X test pixels:\")\n",
    "print(\"--------------------------\")\n",
    "print(\"Minimum Pixels: \", X_test.min(), \"\\t\", \"Maximum Pixels: \", X_test.max(), \"\\n\")\n",
    "X_test = np.array(X_test,dtype='float64')/255\n",
    "print(\"Post Normalization\")\n",
    "print(\"Minimum Pixels: \", X_test.min(), \"\\t\", \"Maximum Pixels: \", X_test.max())"
   ]
  },
  {
   "cell_type": "code",
   "execution_count": 9,
   "metadata": {
    "id": "CfJqI9QJN6DJ",
    "outputId": "8a6f6d79-acee-46bf-93a3-2ad1d5cff83f"
   },
   "outputs": [
    {
     "name": "stdout",
     "output_type": "stream",
     "text": [
      "Training dataset shape:  (240, 10304)\n",
      "Testing dataset shape:  (160, 10304)\n"
     ]
    }
   ],
   "source": [
    "print('Training dataset shape: ',X_train.shape)\n",
    "print('Testing dataset shape: ',X_test.shape)"
   ]
  },
  {
   "cell_type": "markdown",
   "metadata": {
    "id": "Z1_GgL9NN6DJ"
   },
   "source": [
    "## Step #3 : Split the dataset\n",
    "\n",
    "Split is done from Xtrain dataset into X_train and X_valid dataset\n",
    "Here we considered only 10 % of the training dataset as validation dataset as number of images overall is very\n",
    "low (240)"
   ]
  },
  {
   "cell_type": "code",
   "execution_count": 10,
   "metadata": {
    "id": "3ea21J4lN6DK"
   },
   "outputs": [],
   "source": [
    "X_train, X_test, y_train, y_test = train_test_split(X_train,y_train,test_size=0.2,\n",
    "                                                      random_state=10)"
   ]
  },
  {
   "cell_type": "markdown",
   "metadata": {
    "id": "5UlrcUD0N6DK"
   },
   "source": [
    "## Step #4 : Transform the images into equal sizes to input into the CNN model\n",
    "\n",
    "When we feed images in CNN the size of each image must be same.\n",
    "We will define the shape of image in terms of rows, columns\n",
    "To make equal size of all images (train, test, and valid dataset), we will use Reshape function"
   ]
  },
  {
   "cell_type": "code",
   "execution_count": 11,
   "metadata": {
    "id": "Y0luFjGtN6DL"
   },
   "outputs": [],
   "source": [
    "# Shape of image definition\n",
    "rows = 112\n",
    "columns = 92\n",
    "image_shape = (rows,columns,1)"
   ]
  },
  {
   "cell_type": "code",
   "execution_count": 12,
   "metadata": {
    "id": "m8o1H1wBN6DL",
    "outputId": "1470bfc1-0ef0-49d3-faea-87664b23c895"
   },
   "outputs": [
    {
     "name": "stdout",
     "output_type": "stream",
     "text": [
      "Training dataset modified shape:  (192, 112, 92, 1)\n",
      "Testing dataset modified shape:  (48, 112, 92, 1)\n"
     ]
    }
   ],
   "source": [
    "# Reshape function\n",
    "X_train = X_train.reshape(X_train.shape[0],*image_shape)\n",
    "X_test = X_test.reshape(X_test.shape[0],*image_shape)\n",
    "\n",
    "print('Training dataset modified shape: ',X_train.shape)\n",
    "print('Testing dataset modified shape: ',X_test.shape)"
   ]
  },
  {
   "cell_type": "code",
   "execution_count": 13,
   "metadata": {},
   "outputs": [
    {
     "name": "stdout",
     "output_type": "stream",
     "text": [
      "(192, 112, 92, 1) , (48, 112, 92, 1)\n"
     ]
    }
   ],
   "source": [
    "X_train_edited = np.array([np.reshape(i, (112, 92, 1)) for i in X_train])\n",
    "X_test_edited = np.array([np.reshape(i, (112, 92, 1)) for i in X_test])\n",
    "print(X_train_edited.shape,\",\",X_test_edited.shape)"
   ]
  },
  {
   "cell_type": "code",
   "execution_count": 14,
   "metadata": {},
   "outputs": [],
   "source": [
    "y_train_final = tf.keras.utils.to_categorical(y_train, num_classes=20, dtype='float32')\n",
    "y_test_final = tf.keras.utils.to_categorical(y_test, num_classes=20, dtype='float32')"
   ]
  },
  {
   "cell_type": "markdown",
   "metadata": {
    "id": "PUlk0vuxN6DL"
   },
   "source": [
    "## Step #5: Building a CNN Model that has 3 main layers"
   ]
  },
  {
   "cell_type": "code",
   "execution_count": 15,
   "metadata": {},
   "outputs": [],
   "source": [
    "# Set Parameters\n",
    "batchSize = 12\n",
    "epochs = 200\n",
    "tf.random.set_seed(2507)\n",
    "np.random.seed(2507)\n",
    "\n",
    "# Initialising the CNN\n",
    "classifier = tf.keras.models.Sequential()\n",
    "\n",
    "# Step 1 - Convolution  #No of Feature Maps, Filter, color image with channel,\n",
    "classifier.add(tf.keras.layers.Conv2D(32, (3, 3), input_shape = (112, 92, 1), activation = 'relu'))\n",
    "\n",
    "# Step 2 - Pooling\n",
    "classifier.add(tf.keras.layers.MaxPooling2D(pool_size = (2, 2)))\n",
    "\n",
    "# Adding a second convolutional layer\n",
    "classifier.add(tf.keras.layers.Conv2D(64, (3, 3), activation = 'relu'))\n",
    "classifier.add(tf.keras.layers.MaxPooling2D(pool_size = (2, 2)))\n",
    "\n",
    "# Adding a second convolutional layer\n",
    "classifier.add(tf.keras.layers.Conv2D(128, (3, 3), activation = 'relu'))\n",
    "classifier.add(tf.keras.layers.MaxPooling2D(pool_size = (2, 2)))\n",
    "\n",
    "# Step 3 - Flattening\n",
    "classifier.add(tf.keras.layers.Flatten())\n",
    "#classifier.add(tf.keras.layers.GlobalAveragePooling2D())\n",
    "\n",
    "# Step 4 - Full connection\n",
    "classifier.add(tf.keras.layers.Dense(units = 512, activation = 'relu'))\n",
    "classifier.add(tf.keras.layers.Dropout(0.25))\n",
    "classifier.add(tf.keras.layers.Dense(units = 256, activation = 'relu'))\n",
    "classifier.add(tf.keras.layers.Dropout(0.25))\n",
    "classifier.add(tf.keras.layers.Dense(units = 128, activation = 'relu'))\n",
    "classifier.add(tf.keras.layers.Dropout(0.25))\n",
    "classifier.add(tf.keras.layers.Dense(units = 64, activation = 'relu'))\n",
    "classifier.add(tf.keras.layers.Dense(units = 20, activation = 'softmax'))\n",
    "\n",
    "# Compiling the CNN\n",
    "classifier.compile(optimizer = \"Adam\" , loss = 'categorical_crossentropy', metrics = ['accuracy'])"
   ]
  },
  {
   "cell_type": "code",
   "execution_count": 16,
   "metadata": {},
   "outputs": [
    {
     "name": "stdout",
     "output_type": "stream",
     "text": [
      "Model: \"sequential\"\n",
      "_________________________________________________________________\n",
      "Layer (type)                 Output Shape              Param #   \n",
      "=================================================================\n",
      "conv2d (Conv2D)              (None, 110, 90, 32)       320       \n",
      "_________________________________________________________________\n",
      "max_pooling2d (MaxPooling2D) (None, 55, 45, 32)        0         \n",
      "_________________________________________________________________\n",
      "conv2d_1 (Conv2D)            (None, 53, 43, 64)        18496     \n",
      "_________________________________________________________________\n",
      "max_pooling2d_1 (MaxPooling2 (None, 26, 21, 64)        0         \n",
      "_________________________________________________________________\n",
      "conv2d_2 (Conv2D)            (None, 24, 19, 128)       73856     \n",
      "_________________________________________________________________\n",
      "max_pooling2d_2 (MaxPooling2 (None, 12, 9, 128)        0         \n",
      "_________________________________________________________________\n",
      "flatten (Flatten)            (None, 13824)             0         \n",
      "_________________________________________________________________\n",
      "dense (Dense)                (None, 512)               7078400   \n",
      "_________________________________________________________________\n",
      "dropout (Dropout)            (None, 512)               0         \n",
      "_________________________________________________________________\n",
      "dense_1 (Dense)              (None, 256)               131328    \n",
      "_________________________________________________________________\n",
      "dropout_1 (Dropout)          (None, 256)               0         \n",
      "_________________________________________________________________\n",
      "dense_2 (Dense)              (None, 128)               32896     \n",
      "_________________________________________________________________\n",
      "dropout_2 (Dropout)          (None, 128)               0         \n",
      "_________________________________________________________________\n",
      "dense_3 (Dense)              (None, 64)                8256      \n",
      "_________________________________________________________________\n",
      "dense_4 (Dense)              (None, 20)                1300      \n",
      "=================================================================\n",
      "Total params: 7,344,852\n",
      "Trainable params: 7,344,852\n",
      "Non-trainable params: 0\n",
      "_________________________________________________________________\n"
     ]
    }
   ],
   "source": [
    "classifier.summary()"
   ]
  },
  {
   "cell_type": "code",
   "execution_count": 17,
   "metadata": {},
   "outputs": [],
   "source": [
    "#Custom Callback\n",
    "\n",
    "class MyThresholdCallBack(tf.keras.callbacks.Callback):\n",
    "    def __init__(self,cl):\n",
    "        super(MyThresholdCallBack, self).__init__()\n",
    "        self.cl = cl\n",
    "        \n",
    "    def on_epoch_end(self, epoch, logs=None):\n",
    "        test_score = logs[\"val_accuracy\"]\n",
    "        train_score = logs[\"accuracy\"]\n",
    "        \n",
    "        if test_score > train_score and test_score > self.cl:\n",
    "        #if test_score > self.cl:\n",
    "            self.model.stop_training = True"
   ]
  },
  {
   "cell_type": "markdown",
   "metadata": {},
   "source": [
    "## Step #6 - Train the Model"
   ]
  },
  {
   "cell_type": "code",
   "execution_count": 18,
   "metadata": {},
   "outputs": [
    {
     "name": "stdout",
     "output_type": "stream",
     "text": [
      "Epoch 1/200\n",
      "16/16 - 2s - loss: 3.0219 - accuracy: 0.0521 - val_loss: 2.9978 - val_accuracy: 0.0208\n",
      "Epoch 2/200\n",
      "16/16 - 1s - loss: 2.9994 - accuracy: 0.0729 - val_loss: 3.0047 - val_accuracy: 0.0625\n",
      "Epoch 3/200\n",
      "16/16 - 1s - loss: 2.9953 - accuracy: 0.0833 - val_loss: 3.0047 - val_accuracy: 0.0208\n",
      "Epoch 4/200\n",
      "16/16 - 1s - loss: 2.9925 - accuracy: 0.0677 - val_loss: 3.0069 - val_accuracy: 0.0625\n",
      "Epoch 5/200\n",
      "16/16 - 1s - loss: 2.9894 - accuracy: 0.0573 - val_loss: 2.9972 - val_accuracy: 0.0417\n",
      "Epoch 6/200\n",
      "16/16 - 1s - loss: 2.9278 - accuracy: 0.0781 - val_loss: 2.9128 - val_accuracy: 0.1667\n",
      "Epoch 7/200\n",
      "16/16 - 1s - loss: 2.8555 - accuracy: 0.1094 - val_loss: 2.9120 - val_accuracy: 0.0625\n",
      "Epoch 8/200\n",
      "16/16 - 1s - loss: 2.6024 - accuracy: 0.1875 - val_loss: 2.4429 - val_accuracy: 0.2292\n",
      "Epoch 9/200\n",
      "16/16 - 1s - loss: 2.2660 - accuracy: 0.2604 - val_loss: 2.1769 - val_accuracy: 0.3125\n",
      "Epoch 10/200\n",
      "16/16 - 1s - loss: 1.8385 - accuracy: 0.4010 - val_loss: 1.5656 - val_accuracy: 0.4583\n",
      "Epoch 11/200\n",
      "16/16 - 1s - loss: 1.4181 - accuracy: 0.4896 - val_loss: 1.1417 - val_accuracy: 0.6250\n",
      "Epoch 12/200\n",
      "16/16 - 1s - loss: 1.2833 - accuracy: 0.5625 - val_loss: 0.8965 - val_accuracy: 0.7292\n",
      "Epoch 13/200\n",
      "16/16 - 1s - loss: 0.8980 - accuracy: 0.6927 - val_loss: 0.6312 - val_accuracy: 0.8542\n",
      "Epoch 14/200\n",
      "16/16 - 1s - loss: 0.8969 - accuracy: 0.7031 - val_loss: 0.7198 - val_accuracy: 0.6875\n",
      "Epoch 15/200\n",
      "16/16 - 1s - loss: 0.5122 - accuracy: 0.8281 - val_loss: 0.4685 - val_accuracy: 0.8333\n",
      "Epoch 16/200\n",
      "16/16 - 1s - loss: 0.3624 - accuracy: 0.8750 - val_loss: 0.1180 - val_accuracy: 0.9583\n"
     ]
    }
   ],
   "source": [
    "myR2ScoreMonitor = MyThresholdCallBack(cl=0.95)\n",
    "\n",
    "history = classifier.fit(x = X_train_edited, y = y_train_final,\n",
    "                              validation_data = (X_test_edited, y_test_final),\n",
    "                              steps_per_epoch= (X_train.shape[0])/batchSize,\n",
    "                              epochs = epochs,\n",
    "                              callbacks = [myR2ScoreMonitor],\n",
    "                              validation_steps= (X_test.shape[0])/batchSize,  \n",
    "                              verbose=2\n",
    "                              )"
   ]
  },
  {
   "cell_type": "markdown",
   "metadata": {},
   "source": [
    "## Step #7 - Train Results (Graph Visualization)"
   ]
  },
  {
   "cell_type": "code",
   "execution_count": 19,
   "metadata": {},
   "outputs": [
    {
     "data": {
      "image/png": "[encoded data removed]",
      "text/plain": [
       "<Figure size 432x288 with 1 Axes>"
      ]
     },
     "metadata": {
      "needs_background": "light"
     },
     "output_type": "display_data"
    },
    {
     "data": {
      "image/png": "[encoded data removed]",
      "text/plain": [
       "<Figure size 432x288 with 1 Axes>"
      ]
     },
     "metadata": {
      "needs_background": "light"
     },
     "output_type": "display_data"
    }
   ],
   "source": [
    "#Graphing our training and validation\n",
    "import matplotlib.pyplot as plt\n",
    "%matplotlib inline\n",
    "acc = history.history['accuracy']\n",
    "val_acc = history.history['val_accuracy']\n",
    "loss = history.history['loss']\n",
    "val_loss = history.history['val_loss']\n",
    "\n",
    "epochs = range(len(acc))\n",
    "plt.plot(epochs, acc, 'r', label='Training acc')\n",
    "plt.plot(epochs, val_acc, 'b', label='Validation acc')\n",
    "plt.title('Training and validation accuracy')\n",
    "plt.ylabel('accuracy')  \n",
    "plt.xlabel('epoch')\n",
    "plt.legend()\n",
    "plt.figure()\n",
    "\n",
    "plt.plot(epochs, loss, 'r', label='Training loss')\n",
    "plt.plot(epochs, val_loss, 'b', label='Validation loss')\n",
    "plt.title('Training and validation loss')\n",
    "plt.ylabel('loss')  \n",
    "plt.xlabel('epoch')\n",
    "plt.legend()\n",
    "plt.show()"
   ]
  },
  {
   "cell_type": "markdown",
   "metadata": {},
   "source": [
    "## Task #8 - Model trained above 90% and generalized successfully"
   ]
  },
  {
   "cell_type": "code",
   "execution_count": 20,
   "metadata": {},
   "outputs": [
    {
     "data": {
      "text/plain": [
       "0.875"
      ]
     },
     "execution_count": 20,
     "metadata": {},
     "output_type": "execute_result"
    }
   ],
   "source": [
    "# training accuracy after final epoch\n",
    "history.history['accuracy'][-1]"
   ]
  },
  {
   "cell_type": "code",
   "execution_count": 21,
   "metadata": {},
   "outputs": [
    {
     "data": {
      "text/plain": [
       "0.9583333134651184"
      ]
     },
     "execution_count": 21,
     "metadata": {},
     "output_type": "execute_result"
    }
   ],
   "source": [
    "# test accuracy after final epoch\n",
    "history.history['val_accuracy'][-1]"
   ]
  },
  {
   "cell_type": "code",
   "execution_count": 22,
   "metadata": {},
   "outputs": [
    {
     "name": "stdout",
     "output_type": "stream",
     "text": [
      "INFO:tensorflow:Assets written to: FaceRecognition.tf2\\assets\n"
     ]
    }
   ],
   "source": [
    "#classifier.save(\"FaceDetection.tf\")\n",
    "classifier.save(\"FaceRecognition.h5\")\n",
    "classifier.save('FaceRecognition.tf2')"
   ]
  },
  {
   "cell_type": "code",
   "execution_count": 23,
   "metadata": {},
   "outputs": [],
   "source": [
    "#Making Predictions\n",
    "predictions = classifier.predict(X_test_edited)"
   ]
  },
  {
   "cell_type": "code",
   "execution_count": 24,
   "metadata": {},
   "outputs": [],
   "source": [
    "def plot_image(i, predictions, trueLabel, img):\n",
    "  predictions_array, true_label, image = predictions[i], trueLabel[i], img[i]\n",
    "  plt.xticks([])\n",
    "  plt.yticks([])\n",
    "  #plt.imshow(x_test_edited[0].reshape(112,92))\n",
    "  plt.imshow(image.reshape(112,92), cmap=\"gray\")\n",
    "  actual_label = np.argmax(true_label)\n",
    "  predicted_label = np.argmax(predictions_array)\n",
    "  # print(\"True Label: \",y_test_final[1],\"\\n\")\n",
    "  # print(\"Prediction: \", predictions[1], \"\\n\")\n",
    "  print(\"Actual Label is: \", actual_label)\n",
    "  print(\"Predicted Label is: \", predicted_label)\n",
    "  if predicted_label == actual_label:\n",
    "    color = \"blue\"\n",
    "  else:\n",
    "    color = \"red\"\n",
    "  plt.xlabel(\"Face ID {} predicted matches {:2.0f}% to ({})\".format(predicted_label,\n",
    "                                                                    100*np.max(predictions_array),\n",
    "                                                                    actual_label, color=color))"
   ]
  },
  {
   "cell_type": "code",
   "execution_count": 25,
   "metadata": {},
   "outputs": [
    {
     "name": "stdout",
     "output_type": "stream",
     "text": [
      "Actual Label is:  15\n",
      "Predicted Label is:  15\n"
     ]
    },
    {
     "data": {
      "image/png": "[encoded data removed]",
      "text/plain": [
       "<Figure size 432x216 with 1 Axes>"
      ]
     },
     "metadata": {},
     "output_type": "display_data"
    }
   ],
   "source": [
    "i = 0\n",
    "plt.figure(figsize=(6,3))\n",
    "plot_image(i, predictions, y_test_final, X_test_edited)"
   ]
  },
  {
   "cell_type": "code",
   "execution_count": 26,
   "metadata": {},
   "outputs": [
    {
     "name": "stdout",
     "output_type": "stream",
     "text": [
      "              precision    recall  f1-score   support\n",
      "\n",
      "           0       1.00      1.00      1.00         1\n",
      "           1       1.00      1.00      1.00         2\n",
      "           2       1.00      0.67      0.80         3\n",
      "           3       1.00      1.00      1.00         1\n",
      "           4       1.00      1.00      1.00         3\n",
      "           5       1.00      1.00      1.00         4\n",
      "           6       1.00      1.00      1.00         2\n",
      "           7       1.00      1.00      1.00         1\n",
      "           8       0.67      1.00      0.80         2\n",
      "           9       1.00      1.00      1.00         3\n",
      "          10       1.00      1.00      1.00         1\n",
      "          11       1.00      1.00      1.00         4\n",
      "          12       1.00      1.00      1.00         2\n",
      "          13       1.00      1.00      1.00         3\n",
      "          14       1.00      0.67      0.80         3\n",
      "          15       1.00      1.00      1.00         4\n",
      "          16       1.00      1.00      1.00         3\n",
      "          17       1.00      1.00      1.00         4\n",
      "          18       1.00      1.00      1.00         1\n",
      "          19       0.50      1.00      0.67         1\n",
      "\n",
      "    accuracy                           0.96        48\n",
      "   macro avg       0.96      0.97      0.95        48\n",
      "weighted avg       0.98      0.96      0.96        48\n",
      "\n"
     ]
    }
   ],
   "source": [
    "#  Confusion Matrix\n",
    "predicted_classes = np.argmax(predictions, axis=1) \n",
    "\n",
    "true_classes = np.array([np.argmax(i) for i in y_test_final])\n",
    "class_labels = np.unique(OFR_facesDF[\"trainY\"]) \n",
    "\n",
    "report = metrics.classification_report(true_classes, predicted_classes)\n",
    "print(report)  "
   ]
  },
  {
   "cell_type": "markdown",
   "metadata": {},
   "source": [
    "## Prediction on other Images"
   ]
  },
  {
   "cell_type": "code",
   "execution_count": 27,
   "metadata": {},
   "outputs": [],
   "source": [
    "from keras.models import load_model\n",
    "model = load_model('FaceRecognition.h5')"
   ]
  },
  {
   "cell_type": "code",
   "execution_count": null,
   "metadata": {},
   "outputs": [],
   "source": [
    "imageLocation = ('C:/AdvancedDLJuneJuly2021/Day8/SharadaAravind.JPG')\n",
    "\n",
    "#Load the Image\n",
    "imageLoad = tf.keras.preprocessing.image.load_img(imageLocation , \n",
    "                                                  target_size=(112,92,1))\n",
    "\n",
    "#Convert Image to Array\n",
    "imageArray = tf.keras.preprocessing.image.img_to_array(imageLoad)\n",
    "\n",
    "plt.imshow(imageLoad)"
   ]
  }
 ],
 "metadata": {
  "colab": {
   "name": "2021 07 09 Face Recognition using Keras.ipynb",
   "provenance": []
  },
  "kernelspec": {
   "display_name": "Python 3",
   "language": "python",
   "name": "python3"
  },
  "language_info": {
   "codemirror_mode": {
    "name": "ipython",
    "version": 3
   },
   "file_extension": ".py",
   "mimetype": "text/x-python",
   "name": "python",
   "nbconvert_exporter": "python",
   "pygments_lexer": "ipython3",
   "version": "3.8.8"
  }
 },
 "nbformat": 4,
 "nbformat_minor": 1
}
