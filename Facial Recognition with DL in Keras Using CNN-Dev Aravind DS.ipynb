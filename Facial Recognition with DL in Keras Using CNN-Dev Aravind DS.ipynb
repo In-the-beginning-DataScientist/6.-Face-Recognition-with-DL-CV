{
 "cells": [
  {
   "cell_type": "markdown",
   "metadata": {
    "id": "gr0hL2tATpSJ"
   },
   "source": [
    "# **Problem Statement**\n",
    "\n",
    "**DESCRIPTION**\n",
    "\n",
    "\n",
    "**Problem Statement:**\n",
    "Facial recognition is a biometric alternative that measures unique characteristics of a human\n",
    "face. Applications available today include flight check in, tagging friends and family members in\n",
    "photos, and “tailored” advertising. You are a computer vision engineer who needs to develop a\n",
    "face recognition programme with deep convolutional neural networks.\n",
    "Objective: Use a deep convolutional neural network to perform facial recognition using Keras.\n",
    "\n",
    "\n",
    "**Dataset Details:**\n",
    "ORL face database composed of 400 images of size 112 x 92. There are 40 people, 10 images\n",
    "per person. The images were taken at different times, lighting and facial expressions. The faces\n",
    "are in an upright position in frontal view, with a slight left-right rotation.\n",
    "Link to the Dataset: https://www.dropbox.com/s/i7uzp5yxk7wruva/ORL_faces.npz?dl=0\n",
    "\n",
    "\n",
    "**Prerequisites:**\n",
    "Keras\n",
    "Scikit Learn\n",
    "Steps to be followed:\n",
    "1. Input the required libraries\n",
    "2. Load the dataset after loading the dataset, you have to normalize every image.\n",
    "3. Split the dataset\n",
    "4. Transform the images to equal sizes to feed in CNN\n",
    "5. Build a CNN model that has 3 main layers:\n",
    "\n",
    "  i. Convolutional Layer\n",
    "\n",
    "  ii. Pooling Layer\n",
    "\n",
    "  iii. Fully Connected Layer\n",
    "\n",
    "6. Train the model\n",
    "7. Plot the result\n",
    "8. Iterate the model until the accuracy is above 90%"
   ]
  },
  {
   "cell_type": "markdown",
   "metadata": {
    "id": "Ae-BcoEdTkCj"
   },
   "source": [
    "## Task 1 - Import Libraries"
   ]
  },
  {
   "cell_type": "code",
   "execution_count": 11,
   "metadata": {
    "colab": {
     "base_uri": "https://localhost:8080/",
     "height": 72
    },
    "id": "CZRg--6aSyiy",
    "outputId": "8d38e6ef-ea1f-45b1-a86f-09a231459b46"
   },
   "outputs": [],
   "source": [
    "import numpy as np\n",
    "import pandas as pd\n",
    "import matplotlib.pyplot as plt\n",
    "%matplotlib inline\n",
    "import seaborn as sn\n",
    "from sklearn import metrics\n",
    "from sklearn.metrics import confusion_matrix\n",
    "from sklearn.metrics import classification_report\n",
    "import tensorflow as tf\n",
    "import cv2"
   ]
  },
  {
   "cell_type": "markdown",
   "metadata": {
    "id": "l2dzy0JDTg-4"
   },
   "source": [
    "## Task 2 - Load the dataset after loading the dataset , you have to normalize every image."
   ]
  },
  {
   "cell_type": "code",
   "execution_count": 12,
   "metadata": {
    "colab": {
     "base_uri": "https://localhost:8080/",
     "height": 87
    },
    "id": "08DiB99VTPe_",
    "outputId": "eab8131d-9a39-45ae-c12b-97663c8842af"
   },
   "outputs": [
    {
     "data": {
      "text/plain": [
       "['testY', 'testX', 'trainX', 'trainY']"
      ]
     },
     "execution_count": 12,
     "metadata": {},
     "output_type": "execute_result"
    }
   ],
   "source": [
    "# Load the NPZ file to data\n",
    "ORL_faces= np.load(\"ORL_faces.npz\",allow_pickle=False)\n",
    "ORL_faces.files"
   ]
  },
  {
   "cell_type": "markdown",
   "metadata": {},
   "source": [
    "#### there are 4 folders present in the given data set. trainX, trainY, testX and testY"
   ]
  },
  {
   "cell_type": "code",
   "execution_count": 19,
   "metadata": {
    "colab": {
     "base_uri": "https://localhost:8080/",
     "height": 781
    },
    "id": "WdbaXSkJcMnf",
    "outputId": "f1a9f62d-14ba-4812-89c2-7e72b29eef8c"
   },
   "outputs": [
    {
     "name": "stdout",
     "output_type": "stream",
     "text": [
      "(240, 10304)\n"
     ]
    }
   ],
   "source": [
    "# Size of the data\n",
    "print(ORL_faces['trainX'].shape)"
   ]
  },
  {
   "cell_type": "code",
   "execution_count": 20,
   "metadata": {},
   "outputs": [
    {
     "name": "stdout",
     "output_type": "stream",
     "text": [
      "[ 0  0  0  0  0  0  0  0  0  0  0  0  1  1  1  1  1  1  1  1  1  1  1  1\n",
      "  2  2  2  2  2  2  2  2  2  2  2  2  3  3  3  3  3  3  3  3  3  3  3  3\n",
      "  4  4  4  4  4  4  4  4  4  4  4  4  5  5  5  5  5  5  5  5  5  5  5  5\n",
      "  6  6  6  6  6  6  6  6  6  6  6  6  7  7  7  7  7  7  7  7  7  7  7  7\n",
      "  8  8  8  8  8  8  8  8  8  8  8  8  9  9  9  9  9  9  9  9  9  9  9  9\n",
      " 10 10 10 10 10 10 10 10 10 10 10 10 11 11 11 11 11 11 11 11 11 11 11 11\n",
      " 12 12 12 12 12 12 12 12 12 12 12 12 13 13 13 13 13 13 13 13 13 13 13 13\n",
      " 14 14 14 14 14 14 14 14 14 14 14 14 15 15 15 15 15 15 15 15 15 15 15 15\n",
      " 16 16 16 16 16 16 16 16 16 16 16 16 17 17 17 17 17 17 17 17 17 17 17 17\n",
      " 18 18 18 18 18 18 18 18 18 18 18 18 19 19 19 19 19 19 19 19 19 19 19 19]\n"
     ]
    }
   ],
   "source": [
    "print(ORL_faces[item])"
   ]
  },
  {
   "cell_type": "markdown",
   "metadata": {},
   "source": [
    "### Train data set contains 12 images of 20mpersons each (Total size is 240)"
   ]
  },
  {
   "cell_type": "code",
   "execution_count": 30,
   "metadata": {},
   "outputs": [
    {
     "name": "stdout",
     "output_type": "stream",
     "text": [
      "(240,)\n",
      "[ 0  0  0  0  0  0  0  0  0  0  0  0  1  1  1  1  1  1  1  1  1  1  1  1\n",
      "  2  2  2  2  2  2  2  2  2  2  2  2  3  3  3  3  3  3  3  3  3  3  3  3\n",
      "  4  4  4  4  4  4  4  4  4  4  4  4  5  5  5  5  5  5  5  5  5  5  5  5\n",
      "  6  6  6  6  6  6  6  6  6  6  6  6  7  7  7  7  7  7  7  7  7  7  7  7\n",
      "  8  8  8  8  8  8  8  8  8  8  8  8  9  9  9  9  9  9  9  9  9  9  9  9\n",
      " 10 10 10 10 10 10 10 10 10 10 10 10 11 11 11 11 11 11 11 11 11 11 11 11\n",
      " 12 12 12 12 12 12 12 12 12 12 12 12 13 13 13 13 13 13 13 13 13 13 13 13\n",
      " 14 14 14 14 14 14 14 14 14 14 14 14 15 15 15 15 15 15 15 15 15 15 15 15\n",
      " 16 16 16 16 16 16 16 16 16 16 16 16 17 17 17 17 17 17 17 17 17 17 17 17\n",
      " 18 18 18 18 18 18 18 18 18 18 18 18 19 19 19 19 19 19 19 19 19 19 19 19]\n"
     ]
    }
   ],
   "source": [
    "print(ORL_faces['trainY'].shape)\n",
    "print(ORL_faces[item])"
   ]
  },
  {
   "cell_type": "code",
   "execution_count": 31,
   "metadata": {},
   "outputs": [
    {
     "name": "stdout",
     "output_type": "stream",
     "text": [
      "(160, 10304)\n",
      "[ 0  0  0  0  0  0  0  0  0  0  0  0  1  1  1  1  1  1  1  1  1  1  1  1\n",
      "  2  2  2  2  2  2  2  2  2  2  2  2  3  3  3  3  3  3  3  3  3  3  3  3\n",
      "  4  4  4  4  4  4  4  4  4  4  4  4  5  5  5  5  5  5  5  5  5  5  5  5\n",
      "  6  6  6  6  6  6  6  6  6  6  6  6  7  7  7  7  7  7  7  7  7  7  7  7\n",
      "  8  8  8  8  8  8  8  8  8  8  8  8  9  9  9  9  9  9  9  9  9  9  9  9\n",
      " 10 10 10 10 10 10 10 10 10 10 10 10 11 11 11 11 11 11 11 11 11 11 11 11\n",
      " 12 12 12 12 12 12 12 12 12 12 12 12 13 13 13 13 13 13 13 13 13 13 13 13\n",
      " 14 14 14 14 14 14 14 14 14 14 14 14 15 15 15 15 15 15 15 15 15 15 15 15\n",
      " 16 16 16 16 16 16 16 16 16 16 16 16 17 17 17 17 17 17 17 17 17 17 17 17\n",
      " 18 18 18 18 18 18 18 18 18 18 18 18 19 19 19 19 19 19 19 19 19 19 19 19]\n"
     ]
    }
   ],
   "source": [
    "print(ORL_faces['testX'].shape)\n",
    "print(ORL_faces[item])"
   ]
  },
  {
   "cell_type": "markdown",
   "metadata": {},
   "source": [
    "### Train data set contains 8 images of 20mpersons each (Total size si 160)"
   ]
  },
  {
   "cell_type": "code",
   "execution_count": 32,
   "metadata": {},
   "outputs": [
    {
     "name": "stdout",
     "output_type": "stream",
     "text": [
      "(160,)\n",
      "[ 0  0  0  0  0  0  0  0  0  0  0  0  1  1  1  1  1  1  1  1  1  1  1  1\n",
      "  2  2  2  2  2  2  2  2  2  2  2  2  3  3  3  3  3  3  3  3  3  3  3  3\n",
      "  4  4  4  4  4  4  4  4  4  4  4  4  5  5  5  5  5  5  5  5  5  5  5  5\n",
      "  6  6  6  6  6  6  6  6  6  6  6  6  7  7  7  7  7  7  7  7  7  7  7  7\n",
      "  8  8  8  8  8  8  8  8  8  8  8  8  9  9  9  9  9  9  9  9  9  9  9  9\n",
      " 10 10 10 10 10 10 10 10 10 10 10 10 11 11 11 11 11 11 11 11 11 11 11 11\n",
      " 12 12 12 12 12 12 12 12 12 12 12 12 13 13 13 13 13 13 13 13 13 13 13 13\n",
      " 14 14 14 14 14 14 14 14 14 14 14 14 15 15 15 15 15 15 15 15 15 15 15 15\n",
      " 16 16 16 16 16 16 16 16 16 16 16 16 17 17 17 17 17 17 17 17 17 17 17 17\n",
      " 18 18 18 18 18 18 18 18 18 18 18 18 19 19 19 19 19 19 19 19 19 19 19 19]\n"
     ]
    }
   ],
   "source": [
    "print(ORL_faces['testY'].shape)\n",
    "print(ORL_faces[item])"
   ]
  },
  {
   "cell_type": "code",
   "execution_count": 40,
   "metadata": {},
   "outputs": [
    {
     "name": "stdout",
     "output_type": "stream",
     "text": [
      "Minimum Pixels of trainX:  0.0 \t Maximum Pixels of trainx:  244.0 \n",
      "\n"
     ]
    }
   ],
   "source": [
    "print(\"Minimum Pixels of trainX: \", ORL_faces['trainX'].min(), \"\\t\",\n",
    "      \"Maximum Pixels of trainX: \", ORL_faces['trainX'].max(), \"\\n\")"
   ]
  },
  {
   "cell_type": "code",
   "execution_count": 42,
   "metadata": {},
   "outputs": [
    {
     "name": "stdout",
     "output_type": "stream",
     "text": [
      "Minimum Pixels of testX:  0.0 \t Maximum Pixels of testX:  244.0 \n",
      "\n"
     ]
    }
   ],
   "source": [
    "print(\"Minimum Pixels of testX: \", ORL_faces['testX'].min(), \"\\t\",\n",
    "      \"Maximum Pixels of testX: \", ORL_faces['testX'].max(), \"\\n\")"
   ]
  },
  {
   "cell_type": "code",
   "execution_count": 44,
   "metadata": {},
   "outputs": [],
   "source": [
    "trainX_normalize = np.array(ORL_faces['trainX'],dtype='float64')/255"
   ]
  },
  {
   "cell_type": "code",
   "execution_count": 46,
   "metadata": {},
   "outputs": [
    {
     "data": {
      "text/plain": [
       "array([[0.18823529, 0.19215686, 0.17647059, ..., 0.18431373, 0.18039216,\n",
       "        0.18039216],\n",
       "       [0.23529412, 0.23529412, 0.24313725, ..., 0.1254902 , 0.13333333,\n",
       "        0.13333333],\n",
       "       [0.15294118, 0.17254902, 0.20784314, ..., 0.11372549, 0.10196078,\n",
       "        0.11372549],\n",
       "       ...,\n",
       "       [0.44705882, 0.45882353, 0.44705882, ..., 0.38431373, 0.37647059,\n",
       "        0.38431373],\n",
       "       [0.41176471, 0.41176471, 0.41960784, ..., 0.21176471, 0.18431373,\n",
       "        0.16078431],\n",
       "       [0.45490196, 0.44705882, 0.45882353, ..., 0.37254902, 0.39215686,\n",
       "        0.39607843]])"
      ]
     },
     "execution_count": 46,
     "metadata": {},
     "output_type": "execute_result"
    }
   ],
   "source": [
    "trainX_normalize"
   ]
  },
  {
   "cell_type": "code",
   "execution_count": 47,
   "metadata": {},
   "outputs": [
    {
     "data": {
      "text/plain": [
       "0.0"
      ]
     },
     "execution_count": 47,
     "metadata": {},
     "output_type": "execute_result"
    }
   ],
   "source": [
    "trainX_normalize.min()"
   ]
  },
  {
   "cell_type": "code",
   "execution_count": 48,
   "metadata": {},
   "outputs": [
    {
     "data": {
      "text/plain": [
       "0.9568627450980393"
      ]
     },
     "execution_count": 48,
     "metadata": {},
     "output_type": "execute_result"
    }
   ],
   "source": [
    "trainX_normalize.max()"
   ]
  },
  {
   "cell_type": "code",
   "execution_count": 50,
   "metadata": {},
   "outputs": [
    {
     "name": "stdout",
     "output_type": "stream",
     "text": [
      "Minimum Pixels of testX_normalize:  0.0 \t Maximum Pixels of testX_normalize:  0.9568627450980393 \n",
      "\n"
     ]
    }
   ],
   "source": [
    "testX_normalize = np.array(ORL_faces['testX'],dtype='float64')/255\n",
    "print(\"Minimum Pixels of testX_normalize: \", testX_normalize.min(), \"\\t\",\n",
    "      \"Maximum Pixels of testX_normalize: \", testX_normalize.max(), \"\\n\")"
   ]
  },
  {
   "cell_type": "code",
   "execution_count": null,
   "metadata": {},
   "outputs": [],
   "source": [
    "print(\"Minimum Pixels of testX_normalize: \", trainX_normalize.min(), \"\\t\",\n",
    "      \"Maximum Pixels of trainX_normalize: \", trainX_normalize.max(), \"\\n\")"
   ]
  },
  {
   "cell_type": "code",
   "execution_count": 52,
   "metadata": {},
   "outputs": [],
   "source": [
    "trainX_image= np.reshape(trainX_normalize, (240, 112, 92,1))\n",
    "testX_image= np.reshape(testX_normalize, (160, 112, 92,1))"
   ]
  },
  {
   "cell_type": "markdown",
   "metadata": {
    "id": "EC5KlGVbsa4a"
   },
   "source": [
    "## Task 3 - Seperate the Train and Test Data"
   ]
  },
  {
   "cell_type": "code",
   "execution_count": 59,
   "metadata": {
    "colab": {
     "base_uri": "https://localhost:8080/",
     "height": 34
    },
    "id": "1xILh36JMXLD",
    "outputId": "95817da7-4940-4e8c-ed61-5ddced984b65"
   },
   "outputs": [
    {
     "data": {
      "text/plain": [
       "((240, 112, 92, 1), (160, 112, 92, 1), (240,), (160,))"
      ]
     },
     "execution_count": 59,
     "metadata": {},
     "output_type": "execute_result"
    }
   ],
   "source": [
    "X_train,X_test,y_train,y_test=trainX_image,testX_image, ORL_faces['trainY'],ORL_faces['testY']\n",
    "X_train.shape, X_test.shape, y_train.shape, y_test.shape"
   ]
  },
  {
   "cell_type": "markdown",
   "metadata": {
    "id": "QNAxNSQeKgyJ"
   },
   "source": [
    "## **Task 4 - Transform the images to equal sizes**"
   ]
  },
  {
   "cell_type": "code",
   "execution_count": null,
   "metadata": {
    "id": "cPfeHnwYKseA"
   },
   "outputs": [],
   "source": [
    "#imageGrayScale = np.array([cv2.cvtColor(i, cv2.COLOR_BGR2GRAY) for i in x_train)"
   ]
  },
  {
   "cell_type": "code",
   "execution_count": 63,
   "metadata": {
    "colab": {
     "base_uri": "https://localhost:8080/",
     "height": 34
    },
    "id": "a2QWWvqv4lcz",
    "outputId": "bf0a18fa-fa35-4530-e2ce-34f0dc9950de"
   },
   "outputs": [
    {
     "name": "stdout",
     "output_type": "stream",
     "text": [
      "Shape of X Train:  (240, 92, 112)\n"
     ]
    }
   ],
   "source": [
    "X_trainFinal = np.array([cv2.resize(i,(112,92), interpolation=cv2.INTER_CUBIC) for i in X_train])\n",
    "print(\"Shape of X Train: \", X_trainFinal.shape)"
   ]
  },
  {
   "cell_type": "code",
   "execution_count": 65,
   "metadata": {
    "colab": {
     "base_uri": "https://localhost:8080/",
     "height": 34
    },
    "id": "qFypdGSe541L",
    "outputId": "90d546e0-c998-4795-88eb-c1237972244f"
   },
   "outputs": [
    {
     "name": "stdout",
     "output_type": "stream",
     "text": [
      "Shape of X Test:  (160, 92, 112)\n"
     ]
    }
   ],
   "source": [
    "X_testFinal = np.array([cv2.resize(i,(112,92), interpolation=cv2.INTER_CUBIC) for i in X_test])\n",
    "print(\"Shape of X Test: \", X_testFinal.shape)"
   ]
  },
  {
   "cell_type": "markdown",
   "metadata": {
    "id": "qPOAsRLkWj6v"
   },
   "source": [
    "## **Changing classes count for Label**"
   ]
  },
  {
   "cell_type": "code",
   "execution_count": 66,
   "metadata": {
    "id": "f0NlQXXpWr_J"
   },
   "outputs": [],
   "source": [
    "y_train_final = tf.keras.utils.to_categorical(y_train, num_classes=20, dtype='float32')\n",
    "y_test_final = tf.keras.utils.to_categorical(y_test, num_classes=20, dtype='float32')"
   ]
  },
  {
   "cell_type": "markdown",
   "metadata": {
    "id": "qeIJPtGu927f"
   },
   "source": [
    "## **Task 5 - Creating CNN Model**\n",
    "\n",
    "i. Convolutional Layer\n",
    "\n",
    "ii. Pooling Layer\n",
    "\n",
    "iii. Fully Connected Layer"
   ]
  },
  {
   "cell_type": "code",
   "execution_count": 79,
   "metadata": {
    "colab": {
     "base_uri": "https://localhost:8080/",
     "height": 34
    },
    "id": "oaB6J7s4oKb8",
    "outputId": "73d8ea0c-9b9f-4527-803a-33c3d9e1830c"
   },
   "outputs": [
    {
     "name": "stdout",
     "output_type": "stream",
     "text": [
      "(240, 112, 92, 1) , (160, 112, 92, 1)\n"
     ]
    }
   ],
   "source": [
    "x_train_edited = np.array([np.reshape(i, (112, 92, 1)) for i in X_train])\n",
    "x_test_edited = np.array([np.reshape(i, (112, 92, 1)) for i in X_test])\n",
    "print(x_train_edited.shape,\",\",x_test_edited.shape)"
   ]
  },
  {
   "cell_type": "code",
   "execution_count": 80,
   "metadata": {
    "id": "RoS6NlWAAwx6"
   },
   "outputs": [],
   "source": [
    "# Set Parameters\n",
    "batchSize = 12\n",
    "epochs = 200\n",
    "tf.random.set_seed(2507)\n",
    "np.random.seed(2507)\n",
    "\n",
    "# Initialising the CNN\n",
    "classifier = tf.keras.models.Sequential()\n",
    "\n",
    "# Step 1 - Convolution  #No of Feature Maps, Filter, color image with channel,\n",
    "classifier.add(tf.keras.layers.Conv2D(32, (3, 3), input_shape = (112, 92, 1), activation = 'relu'))\n",
    "\n",
    "# Step 2 - Pooling\n",
    "classifier.add(tf.keras.layers.MaxPooling2D(pool_size = (2, 2)))\n",
    "\n",
    "# Adding a second convolutional layer\n",
    "classifier.add(tf.keras.layers.Conv2D(64, (3, 3), activation = 'relu'))\n",
    "classifier.add(tf.keras.layers.MaxPooling2D(pool_size = (2, 2)))\n",
    "\n",
    "# Adding a second convolutional layer\n",
    "classifier.add(tf.keras.layers.Conv2D(128, (3, 3), activation = 'relu'))\n",
    "classifier.add(tf.keras.layers.MaxPooling2D(pool_size = (2, 2)))\n",
    "\n",
    "# Step 3 - Flattening\n",
    "classifier.add(tf.keras.layers.Flatten())\n",
    "#classifier.add(tf.keras.layers.GlobalAveragePooling2D())\n",
    "\n",
    "# Step 4 - Full connection\n",
    "classifier.add(tf.keras.layers.Dense(units = 512, activation = 'relu'))\n",
    "classifier.add(tf.keras.layers.Dropout(0.25))\n",
    "classifier.add(tf.keras.layers.Dense(units = 256, activation = 'relu'))\n",
    "classifier.add(tf.keras.layers.Dropout(0.25))\n",
    "classifier.add(tf.keras.layers.Dense(units = 128, activation = 'relu'))\n",
    "classifier.add(tf.keras.layers.Dropout(0.25))\n",
    "classifier.add(tf.keras.layers.Dense(units = 64, activation = 'relu'))\n",
    "classifier.add(tf.keras.layers.Dense(units = 20, activation = 'softmax'))\n",
    "\n",
    "# Compiling the CNN\n",
    "classifier.compile(optimizer = \"Adam\" , loss = 'categorical_crossentropy', metrics = ['accuracy'])"
   ]
  },
  {
   "cell_type": "code",
   "execution_count": 81,
   "metadata": {
    "colab": {
     "base_uri": "https://localhost:8080/",
     "height": 692
    },
    "id": "gfjd-RZ660v1",
    "outputId": "30fb98b7-b64b-45e1-e935-950ed0792e5f"
   },
   "outputs": [
    {
     "name": "stdout",
     "output_type": "stream",
     "text": [
      "Model: \"sequential_2\"\n",
      "_________________________________________________________________\n",
      "Layer (type)                 Output Shape              Param #   \n",
      "=================================================================\n",
      "conv2d_6 (Conv2D)            (None, 110, 90, 32)       320       \n",
      "_________________________________________________________________\n",
      "max_pooling2d_6 (MaxPooling2 (None, 55, 45, 32)        0         \n",
      "_________________________________________________________________\n",
      "conv2d_7 (Conv2D)            (None, 53, 43, 64)        18496     \n",
      "_________________________________________________________________\n",
      "max_pooling2d_7 (MaxPooling2 (None, 26, 21, 64)        0         \n",
      "_________________________________________________________________\n",
      "conv2d_8 (Conv2D)            (None, 24, 19, 128)       73856     \n",
      "_________________________________________________________________\n",
      "max_pooling2d_8 (MaxPooling2 (None, 12, 9, 128)        0         \n",
      "_________________________________________________________________\n",
      "flatten_2 (Flatten)          (None, 13824)             0         \n",
      "_________________________________________________________________\n",
      "dense_10 (Dense)             (None, 512)               7078400   \n",
      "_________________________________________________________________\n",
      "dropout_6 (Dropout)          (None, 512)               0         \n",
      "_________________________________________________________________\n",
      "dense_11 (Dense)             (None, 256)               131328    \n",
      "_________________________________________________________________\n",
      "dropout_7 (Dropout)          (None, 256)               0         \n",
      "_________________________________________________________________\n",
      "dense_12 (Dense)             (None, 128)               32896     \n",
      "_________________________________________________________________\n",
      "dropout_8 (Dropout)          (None, 128)               0         \n",
      "_________________________________________________________________\n",
      "dense_13 (Dense)             (None, 64)                8256      \n",
      "_________________________________________________________________\n",
      "dense_14 (Dense)             (None, 20)                1300      \n",
      "=================================================================\n",
      "Total params: 7,344,852\n",
      "Trainable params: 7,344,852\n",
      "Non-trainable params: 0\n",
      "_________________________________________________________________\n"
     ]
    }
   ],
   "source": [
    "classifier.summary()"
   ]
  },
  {
   "cell_type": "code",
   "execution_count": 82,
   "metadata": {
    "id": "RYu_YbGTnOtn"
   },
   "outputs": [],
   "source": [
    "#Custom Callback\n",
    "\n",
    "class MyThresholdCallBack(tf.keras.callbacks.Callback):\n",
    "    def __init__(self,cl):\n",
    "        super(MyThresholdCallBack, self).__init__()\n",
    "        self.cl = cl\n",
    "        \n",
    "    def on_epoch_end(self, epoch, logs=None):\n",
    "        test_score = logs[\"val_accuracy\"]\n",
    "        train_score = logs[\"accuracy\"]\n",
    "        \n",
    "        if test_score > train_score and test_score > self.cl:\n",
    "        #if test_score > self.cl:\n",
    "            self.model.stop_training = True"
   ]
  },
  {
   "cell_type": "markdown",
   "metadata": {
    "id": "H8TFH3yc0xPg"
   },
   "source": [
    "## **Task 6 - Train the Model**"
   ]
  },
  {
   "cell_type": "code",
   "execution_count": 86,
   "metadata": {
    "colab": {
     "base_uri": "https://localhost:8080/",
     "height": 587
    },
    "id": "84OMmWp7CEJ6",
    "outputId": "a7ef2f26-5636-4bca-cebc-a217e412c95a"
   },
   "outputs": [
    {
     "name": "stdout",
     "output_type": "stream",
     "text": [
      "Epoch 1/200\n",
      "20/20 - 2s - loss: 3.0083 - accuracy: 0.0208 - val_loss: 2.9956 - val_accuracy: 0.0500\n",
      "Epoch 2/200\n",
      "20/20 - 2s - loss: 2.9976 - accuracy: 0.0542 - val_loss: 2.9953 - val_accuracy: 0.0500\n",
      "Epoch 3/200\n",
      "20/20 - 2s - loss: 2.9962 - accuracy: 0.0250 - val_loss: 2.9941 - val_accuracy: 0.0500\n",
      "Epoch 4/200\n",
      "20/20 - 2s - loss: 2.9968 - accuracy: 0.0417 - val_loss: 2.9942 - val_accuracy: 0.0500\n",
      "Epoch 5/200\n",
      "20/20 - 2s - loss: 2.9938 - accuracy: 0.0417 - val_loss: 2.9662 - val_accuracy: 0.0500\n",
      "Epoch 6/200\n",
      "20/20 - 2s - loss: 2.9057 - accuracy: 0.0625 - val_loss: 2.8242 - val_accuracy: 0.1125\n",
      "Epoch 7/200\n",
      "20/20 - 2s - loss: 2.7739 - accuracy: 0.1500 - val_loss: 2.5620 - val_accuracy: 0.2000\n",
      "Epoch 8/200\n",
      "20/20 - 2s - loss: 2.3733 - accuracy: 0.2042 - val_loss: 1.8701 - val_accuracy: 0.3562\n",
      "Epoch 9/200\n",
      "20/20 - 2s - loss: 1.6860 - accuracy: 0.4542 - val_loss: 1.2235 - val_accuracy: 0.5938\n",
      "Epoch 10/200\n",
      "20/20 - 2s - loss: 1.2098 - accuracy: 0.5875 - val_loss: 1.0161 - val_accuracy: 0.7063\n",
      "Epoch 11/200\n",
      "20/20 - 2s - loss: 0.9805 - accuracy: 0.6583 - val_loss: 0.9164 - val_accuracy: 0.6625\n",
      "Epoch 12/200\n",
      "20/20 - 2s - loss: 0.7067 - accuracy: 0.7542 - val_loss: 0.7312 - val_accuracy: 0.7563\n",
      "Epoch 13/200\n",
      "20/20 - 2s - loss: 0.3723 - accuracy: 0.8958 - val_loss: 0.5607 - val_accuracy: 0.8250\n",
      "Epoch 14/200\n",
      "20/20 - 2s - loss: 0.3067 - accuracy: 0.9125 - val_loss: 0.4496 - val_accuracy: 0.9000\n",
      "Epoch 15/200\n",
      "20/20 - 2s - loss: 0.2176 - accuracy: 0.9083 - val_loss: 0.2872 - val_accuracy: 0.9125\n"
     ]
    }
   ],
   "source": [
    "myR2ScoreMonitor = MyThresholdCallBack(cl=0.90)\n",
    "\n",
    "history = classifier.fit(x = x_train_edited, y = y_train_final,\n",
    "                              validation_data = (x_test_edited, y_test_final),\n",
    "                              steps_per_epoch= (X_trainFinal.shape[0])/batchSize,\n",
    "                              epochs = epochs,\n",
    "                              callbacks = [myR2ScoreMonitor],\n",
    "                              validation_steps= (X_testFinal.shape[0])/batchSize,  \n",
    "                              verbose=2\n",
    "                              )"
   ]
  },
  {
   "cell_type": "markdown",
   "metadata": {
    "id": "bqokJC_SEz0p"
   },
   "source": [
    "## **Task 7 - Train Results (Graph Visualization)**"
   ]
  },
  {
   "cell_type": "code",
   "execution_count": 87,
   "metadata": {
    "colab": {
     "base_uri": "https://localhost:8080/",
     "height": 573
    },
    "id": "aLHlKJDcE3pw",
    "outputId": "38371029-b5a8-47ee-c66d-99312153572a"
   },
   "outputs": [
    {
     "data": {
      "image/png": "[encoded data removed]",
      "text/plain": [
       "<Figure size 432x288 with 1 Axes>"
      ]
     },
     "metadata": {
      "needs_background": "light"
     },
     "output_type": "display_data"
    },
    {
     "data": {
      "image/png": "[encoded data removed]",
      "text/plain": [
       "<Figure size 432x288 with 1 Axes>"
      ]
     },
     "metadata": {
      "needs_background": "light"
     },
     "output_type": "display_data"
    }
   ],
   "source": [
    "#Graphing our training and validation\n",
    "import matplotlib.pyplot as plt\n",
    "%matplotlib inline\n",
    "acc = history.history['accuracy']\n",
    "val_acc = history.history['val_accuracy']\n",
    "loss = history.history['loss']\n",
    "val_loss = history.history['val_loss']\n",
    "\n",
    "epochs = range(len(acc))\n",
    "plt.plot(epochs, acc, 'r', label='Training acc')\n",
    "plt.plot(epochs, val_acc, 'b', label='Validation acc')\n",
    "plt.title('Training and validation accuracy')\n",
    "plt.ylabel('accuracy')  \n",
    "plt.xlabel('epoch')\n",
    "plt.legend()\n",
    "plt.figure()\n",
    "\n",
    "plt.plot(epochs, loss, 'r', label='Training loss')\n",
    "plt.plot(epochs, val_loss, 'b', label='Validation loss')\n",
    "plt.title('Training and validation loss')\n",
    "plt.ylabel('loss')  \n",
    "plt.xlabel('epoch')\n",
    "plt.legend()\n",
    "plt.show()"
   ]
  },
  {
   "cell_type": "markdown",
   "metadata": {
    "id": "TzJGSACFtOMW"
   },
   "source": [
    "## **Task 8 - Model trained above 90% and generalized successfully**"
   ]
  },
  {
   "cell_type": "code",
   "execution_count": 88,
   "metadata": {
    "colab": {
     "base_uri": "https://localhost:8080/",
     "height": 34
    },
    "id": "4pT7Q8v9tOiR",
    "outputId": "2dd079d9-afe0-46d6-d1de-5c0bafce1a82"
   },
   "outputs": [
    {
     "data": {
      "text/plain": [
       "0.9083333611488342"
      ]
     },
     "execution_count": 88,
     "metadata": {},
     "output_type": "execute_result"
    }
   ],
   "source": [
    "# training accuracy after final epoch\n",
    "history.history['accuracy'][-1]"
   ]
  },
  {
   "cell_type": "code",
   "execution_count": 89,
   "metadata": {
    "colab": {
     "base_uri": "https://localhost:8080/",
     "height": 34
    },
    "id": "4SQl8RjmtQ2d",
    "outputId": "f37812d4-3d13-4b8b-8fdd-89b01a0a6e74"
   },
   "outputs": [
    {
     "data": {
      "text/plain": [
       "0.9125000238418579"
      ]
     },
     "execution_count": 89,
     "metadata": {},
     "output_type": "execute_result"
    }
   ],
   "source": [
    "# test accuracy after final epoch\n",
    "history.history['val_accuracy'][-1]"
   ]
  },
  {
   "cell_type": "markdown",
   "metadata": {
    "id": "pb1X7vaz_Qdw"
   },
   "source": [
    "## **Save The Model**"
   ]
  },
  {
   "cell_type": "code",
   "execution_count": 103,
   "metadata": {
    "colab": {
     "base_uri": "https://localhost:8080/",
     "height": 161
    },
    "id": "-oh-8K5lCuZa",
    "outputId": "14a00793-1ecb-4698-a418-0c884ae8082b"
   },
   "outputs": [
    {
     "name": "stdout",
     "output_type": "stream",
     "text": [
      "INFO:tensorflow:Assets written to: FaceRecognition.tf2\\assets\n"
     ]
    }
   ],
   "source": [
    "#classifier.save(\"FaceDetection.tf\")\n",
    "classifier.save(\"FaceRecognition.h5\")\n",
    "classifier.save('FaceRecognition.tf2')"
   ]
  },
  {
   "cell_type": "code",
   "execution_count": null,
   "metadata": {},
   "outputs": [],
   "source": []
  }
 ],
 "metadata": {
  "accelerator": "GPU",
  "colab": {
   "collapsed_sections": [
    "zLVX1mOO62mC",
    "3taJzYvD6a5X",
    "onWe5jXgJGjI",
    "PzGK8WlVgsT2"
   ],
   "name": "AdvancedDL&CV_Assignment.ipynb",
   "provenance": [],
   "toc_visible": true
  },
  "kernelspec": {
   "display_name": "Python 3",
   "language": "python",
   "name": "python3"
  },
  "language_info": {
   "codemirror_mode": {
    "name": "ipython",
    "version": 3
   },
   "file_extension": ".py",
   "mimetype": "text/x-python",
   "name": "python",
   "nbconvert_exporter": "python",
   "pygments_lexer": "ipython3",
   "version": "3.8.8"
  }
 },
 "nbformat": 4,
 "nbformat_minor": 1
}
